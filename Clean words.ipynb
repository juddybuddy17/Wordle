{
 "cells": [
  {
   "cell_type": "code",
   "execution_count": 1,
   "id": "157fa1e7",
   "metadata": {},
   "outputs": [
    {
     "name": "stdout",
     "output_type": "stream",
     "text": [
      "Juddy Wordle.ipynb README.md          Untitled.ipynb     words\r\n"
     ]
    }
   ],
   "source": [
    "!ls"
   ]
  },
  {
   "cell_type": "code",
   "execution_count": 12,
   "id": "04e26edd",
   "metadata": {},
   "outputs": [],
   "source": [
    "lines = open('./words/nyt-words.txt').readlines()"
   ]
  },
  {
   "cell_type": "code",
   "execution_count": 13,
   "id": "501fc74d",
   "metadata": {},
   "outputs": [],
   "source": [
    "words = []\n",
    "for line in lines:\n",
    "    line_strip = line.strip().split()\n",
    "    if len(line_strip) >= 4 and (line_strip[-1]==5):\n",
    "        words.append(line_strip)[-1]"
   ]
  },
  {
   "cell_type": "code",
   "execution_count": 14,
   "id": "e12c9bad",
   "metadata": {},
   "outputs": [
    {
     "data": {
      "text/plain": [
       "[]"
      ]
     },
     "execution_count": 14,
     "metadata": {},
     "output_type": "execute_result"
    }
   ],
   "source": [
    "words[-50:]"
   ]
  },
  {
   "cell_type": "code",
   "execution_count": null,
   "id": "32e5fb37",
   "metadata": {},
   "outputs": [],
   "source": []
  }
 ],
 "metadata": {
  "kernelspec": {
   "display_name": "Python 3 (ipykernel)",
   "language": "python",
   "name": "python3"
  },
  "language_info": {
   "codemirror_mode": {
    "name": "ipython",
    "version": 3
   },
   "file_extension": ".py",
   "mimetype": "text/x-python",
   "name": "python",
   "nbconvert_exporter": "python",
   "pygments_lexer": "ipython3",
   "version": "3.11.4"
  }
 },
 "nbformat": 4,
 "nbformat_minor": 5
}
