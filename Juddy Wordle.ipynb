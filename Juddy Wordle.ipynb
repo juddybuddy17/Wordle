{
 "cells": [
  {
   "cell_type": "code",
   "execution_count": 1,
   "id": "4019f9ad",
   "metadata": {},
   "outputs": [],
   "source": [
    "import random\n",
    "from colorama import Fore, Style"
   ]
  },
  {
   "cell_type": "code",
   "execution_count": 3,
   "id": "e228cd99",
   "metadata": {},
   "outputs": [],
   "source": [
    "words = open('./words/nyt-words.txt').readlines()\n",
    "words = [w.strip() for w in words]"
   ]
  },
  {
   "cell_type": "code",
   "execution_count": 4,
   "id": "9a5360b8",
   "metadata": {},
   "outputs": [],
   "source": [
    "def green(s):\n",
    "    return Fore.GREEN + s + Style.RESET_ALL"
   ]
  },
  {
   "cell_type": "code",
   "execution_count": 5,
   "id": "a0ce5183",
   "metadata": {},
   "outputs": [],
   "source": [
    "def yellow(s):\n",
    "    return Fore.YELLOW + s + Style.RESET_ALL"
   ]
  },
  {
   "cell_type": "code",
   "execution_count": 6,
   "id": "6d082267",
   "metadata": {},
   "outputs": [],
   "source": [
    "class Game:\n",
    "    def __init__(self, word=None):\n",
    "        self.word = word.upper()\n",
    "        self.guesses = []\n",
    "        \n",
    "    def is_game_over(self):\n",
    "        # If guesses >= 6 -> over\n",
    "        if len(self.guesses) >= 6 and self.guesses[-1][0] != self.word:\n",
    "            self.win = False\n",
    "            return True\n",
    "        # If last guess == word -> over\n",
    "        elif self.guesses and self.guesses[-1][0] == self.word:\n",
    "            self.win = True\n",
    "            return True\n",
    "        else:\n",
    "            return False\n",
    "    \n",
    "    def make_guess(self):\n",
    "        guess = input(\"Enter a word: \").upper().strip()\n",
    "        # TODO: More input sanitization\n",
    "        \n",
    "        color_codes = []\n",
    "        true_word_copy = list(self.word)\n",
    "        \n",
    "        # First pass: Mark greens\n",
    "        for i, guess_char in enumerate(guess):\n",
    "            if guess_char == true_word_copy[i]:\n",
    "                color_codes.append('G')\n",
    "                true_word_copy[i] = '_'\n",
    "            else:\n",
    "                color_codes.append('_')\n",
    "        \n",
    "        # Second pass: Mark yellows and greys\n",
    "        for i, guess_char in enumerate(guess):\n",
    "                \n",
    "            # Grey if char not in word at all\n",
    "            if guess_char not in true_word_copy and color_codes[i] != 'G':\n",
    "                color_codes[i] = 'X'\n",
    "                \n",
    "            # Naive: In word, wrong place\n",
    "            elif guess_char in true_word_copy and color_codes[i] != 'G':\n",
    "                color_codes[i] = 'Y'\n",
    "                \n",
    "                # Take first appearance of char in true word, set to _\n",
    "                yellow_ix = true_word_copy.index(guess_char)\n",
    "                true_word_copy[yellow_ix] = '_'\n",
    "    \n",
    "        # Add guess to self.guesses\n",
    "        color_codes = ''.join(color_codes)\n",
    "        self.guesses.append((guess, color_codes))\n",
    "        \n",
    "    def print_board(self):\n",
    "        for guess, colors in self.guesses:\n",
    "            for guess_char, color_char in zip(guess, colors):\n",
    "                if color_char == 'X':\n",
    "                    print(guess_char, end=' ')\n",
    "                elif color_char == 'Y':\n",
    "                    print(yellow(guess_char), end=' ')\n",
    "                elif color_char == 'G':\n",
    "                    print(green(guess_char), end=' ')\n",
    "            print()"
   ]
  },
  {
   "cell_type": "code",
   "execution_count": 7,
   "id": "74718f9c",
   "metadata": {},
   "outputs": [],
   "source": [
    "random_word = random.choice(words)\n",
    "game = Game(random_word)"
   ]
  },
  {
   "cell_type": "code",
   "execution_count": 8,
   "id": "9751165c",
   "metadata": {},
   "outputs": [
    {
     "data": {
      "text/plain": [
       "'FLOCK'"
      ]
     },
     "execution_count": 8,
     "metadata": {},
     "output_type": "execute_result"
    }
   ],
   "source": [
    "game.word"
   ]
  },
  {
   "cell_type": "code",
   "execution_count": 9,
   "id": "236219da",
   "metadata": {},
   "outputs": [
    {
     "name": "stdout",
     "output_type": "stream",
     "text": [
      "Enter a word: grate\n",
      "G R A T E \n",
      "Enter a word: finds\n",
      "G R A T E \n",
      "\u001b[32mF\u001b[0m I N D S \n",
      "Enter a word: fluck\n",
      "G R A T E \n",
      "\u001b[32mF\u001b[0m I N D S \n",
      "\u001b[32mF\u001b[0m \u001b[32mL\u001b[0m U \u001b[32mC\u001b[0m \u001b[32mK\u001b[0m \n",
      "Enter a word: flick\n",
      "G R A T E \n",
      "\u001b[32mF\u001b[0m I N D S \n",
      "\u001b[32mF\u001b[0m \u001b[32mL\u001b[0m U \u001b[32mC\u001b[0m \u001b[32mK\u001b[0m \n",
      "\u001b[32mF\u001b[0m \u001b[32mL\u001b[0m I \u001b[32mC\u001b[0m \u001b[32mK\u001b[0m \n",
      "Enter a word: flack\n",
      "G R A T E \n",
      "\u001b[32mF\u001b[0m I N D S \n",
      "\u001b[32mF\u001b[0m \u001b[32mL\u001b[0m U \u001b[32mC\u001b[0m \u001b[32mK\u001b[0m \n",
      "\u001b[32mF\u001b[0m \u001b[32mL\u001b[0m I \u001b[32mC\u001b[0m \u001b[32mK\u001b[0m \n",
      "\u001b[32mF\u001b[0m \u001b[32mL\u001b[0m A \u001b[32mC\u001b[0m \u001b[32mK\u001b[0m \n",
      "Enter a word: flock\n",
      "G R A T E \n",
      "\u001b[32mF\u001b[0m I N D S \n",
      "\u001b[32mF\u001b[0m \u001b[32mL\u001b[0m U \u001b[32mC\u001b[0m \u001b[32mK\u001b[0m \n",
      "\u001b[32mF\u001b[0m \u001b[32mL\u001b[0m I \u001b[32mC\u001b[0m \u001b[32mK\u001b[0m \n",
      "\u001b[32mF\u001b[0m \u001b[32mL\u001b[0m A \u001b[32mC\u001b[0m \u001b[32mK\u001b[0m \n",
      "\u001b[32mF\u001b[0m \u001b[32mL\u001b[0m \u001b[32mO\u001b[0m \u001b[32mC\u001b[0m \u001b[32mK\u001b[0m \n",
      "You won! The word was FLOCK!\n"
     ]
    }
   ],
   "source": [
    "while not game.is_game_over():\n",
    "    game.make_guess()\n",
    "    game.print_board()\n",
    "    \n",
    "if game.win:\n",
    "    print(f\"You won! The word was {game.word}!\")\n",
    "else:\n",
    "    print(f\"You lost! The word was {game.word}!\")"
   ]
  },
  {
   "cell_type": "code",
   "execution_count": null,
   "id": "c0e00274",
   "metadata": {},
   "outputs": [],
   "source": []
  },
  {
   "cell_type": "code",
   "execution_count": null,
   "id": "6ca8dc51",
   "metadata": {},
   "outputs": [],
   "source": []
  },
  {
   "cell_type": "code",
   "execution_count": null,
   "id": "e6985770",
   "metadata": {},
   "outputs": [],
   "source": []
  },
  {
   "cell_type": "code",
   "execution_count": null,
   "id": "1f1b710e",
   "metadata": {},
   "outputs": [],
   "source": []
  },
  {
   "cell_type": "code",
   "execution_count": null,
   "id": "e56e3f86",
   "metadata": {},
   "outputs": [],
   "source": []
  },
  {
   "cell_type": "code",
   "execution_count": null,
   "id": "36e6ceaf",
   "metadata": {},
   "outputs": [],
   "source": []
  },
  {
   "cell_type": "code",
   "execution_count": null,
   "id": "257f64bc",
   "metadata": {},
   "outputs": [],
   "source": []
  },
  {
   "cell_type": "code",
   "execution_count": null,
   "id": "9a434d81",
   "metadata": {},
   "outputs": [],
   "source": []
  }
 ],
 "metadata": {
  "kernelspec": {
   "display_name": "Python 3 (ipykernel)",
   "language": "python",
   "name": "python3"
  },
  "language_info": {
   "codemirror_mode": {
    "name": "ipython",
    "version": 3
   },
   "file_extension": ".py",
   "mimetype": "text/x-python",
   "name": "python",
   "nbconvert_exporter": "python",
   "pygments_lexer": "ipython3",
   "version": "3.11.4"
  }
 },
 "nbformat": 4,
 "nbformat_minor": 5
}
